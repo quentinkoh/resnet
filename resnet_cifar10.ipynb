{
 "cells": [
  {
   "cell_type": "markdown",
   "metadata": {},
   "source": [
    "    - each ResNet block is either 2 layer deep (for small networks like ResNet 18, 34)\n",
    "    - or 3 layer deep (ResNet 50, 101, 152)"
   ]
  },
  {
   "cell_type": "code",
   "execution_count": 1,
   "metadata": {},
   "outputs": [
    {
     "name": "stderr",
     "output_type": "stream",
     "text": [
      "C:\\Anaconda\\lib\\site-packages\\h5py\\__init__.py:36: FutureWarning: Conversion of the second argument of issubdtype from `float` to `np.floating` is deprecated. In future, it will be treated as `np.float64 == np.dtype(float).type`.\n",
      "  from ._conv import register_converters as _register_converters\n",
      "Using TensorFlow backend.\n"
     ]
    },
    {
     "name": "stdout",
     "output_type": "stream",
     "text": [
      "Couldn't import dot_parser, loading of dot files will not be possible.\n"
     ]
    }
   ],
   "source": [
    "# import the necessary libraries\n",
    "import numpy as np\n",
    "import pandas as pd\n",
    "\n",
    "pd.set_option('display.max_rows',1000)\n",
    "pd.set_option('display.max_columns',1000)\n",
    "\n",
    "from keras.layers import Conv2D, MaxPooling2D, AveragePooling2D, Activation,\\\n",
    "BatchNormalization, Dense, Flatten, Input, add\n",
    "from keras.regularizers import l2\n",
    "from keras.models import Model\n",
    "import keras.backend as K"
   ]
  },
  {
   "cell_type": "code",
   "execution_count": 2,
   "metadata": {},
   "outputs": [],
   "source": [
    "# libraries for cifar-10\n",
    "from sklearn.preprocessing import LabelBinarizer\n",
    "from keras.preprocessing.image import ImageDataGenerator\n",
    "from keras.optimizers import SGD\n",
    "from keras.datasets import cifar10\n",
    "from keras.models import load_model\n",
    "\n",
    "#import sys\n",
    "\n",
    "# set a high recursion limit so theano doesn't complain\n",
    "#sys.setrecursionlimit(5000)"
   ]
  },
  {
   "cell_type": "code",
   "execution_count": 3,
   "metadata": {},
   "outputs": [],
   "source": [
    "def residual_module(inputs, num_filters, stride, reduce=False,\n",
    "                    reg_str=0.0001, bn_eps=2e-5, bn_mom=0.9):\n",
    "    '''\n",
    "    pre-activation residual module\n",
    "    ---\n",
    "    Args:\n",
    "        inputs:\n",
    "        num_filters:\n",
    "        chanDim:\n",
    "        strides:\n",
    "        reduce:\n",
    "        reg_str:\n",
    "        bn_eps:\n",
    "        bn_mom:\n",
    "\n",
    "    Returns:\n",
    "        x:\n",
    "    '''\n",
    "    shortcut = inputs\n",
    "    # first block of ResNet module - 1 x 1 CONV\n",
    "    bn1 = BatchNormalization(epsilon=bn_eps,\n",
    "                             momentum=bn_mom)(inputs)\n",
    "    act1 = Activation('relu')(bn1)\n",
    "    conv1 = Conv2D(filters=int(num_filters*0.25), kernel_size=(1, 1),\n",
    "                   use_bias=False, kernel_regularizer=l2(reg_str))(act1)\n",
    "\n",
    "    # second block of ResNet module - 3 x 3 CONV\n",
    "    bn2 = BatchNormalization(epsilon=bn_eps,\n",
    "                             momentum=bn_mom)(conv1)\n",
    "    act2 = Activation('relu')(bn2)\n",
    "    conv2 = Conv2D(filters=int(num_filters*0.25), kernel_size=(3, 3),\n",
    "                   strides=stride, padding='same', use_bias=False,\n",
    "                   kernel_regularizer=l2(reg_str))(act2)\n",
    "\n",
    "# third and final block of ResNet module - 1 x 1 CONV\n",
    "    bn3 = BatchNormalization(epsilon=bn_eps,\n",
    "                             momentum=bn_mom)(conv2)\n",
    "    act3 = Activation('relu')(bn3)\n",
    "    conv3 = Conv2D(filters=num_filters, kernel_size=(1, 1), use_bias=False,\n",
    "                   kernel_regularizer=l2(reg_str))(act3)\n",
    "\n",
    "# if we are to reduce the spatial size, apply a CONV layer to the shortcut\n",
    "    if reduce:\n",
    "        shortcut = Conv2D(filters=num_filters, kernel_size=(1, 1),\n",
    "                          strides=stride, use_bias=False,\n",
    "                          kernel_regularizer=l2(reg_str))(act1)\n",
    "\n",
    "# add together the shortcut and the final CONV\n",
    "    x = add([conv3, shortcut])\n",
    "\n",
    "# return the addition as the output of the ResNet module\n",
    "    return x"
   ]
  },
  {
   "cell_type": "code",
   "execution_count": 4,
   "metadata": {},
   "outputs": [],
   "source": [
    "def build(width, height, depth, num_classes, stages, num_filters,\n",
    "          reg_str=0.0001, bn_eps=2e-5, bn_mom=0.9, dataset='cifar'):\n",
    "    '''\n",
    "    a\n",
    "    ---\n",
    "    Args:\n",
    "      width:\n",
    "      height:\n",
    "      depth:\n",
    "      num_classes:\n",
    "      stages: list,\n",
    "      num_filters: list,\n",
    "      reg_str:\n",
    "      bn_eps:\n",
    "      bn_mom:\n",
    "      dataset:\n",
    "\n",
    "    Returns:\n",
    "        ?:\n",
    "    '''\n",
    "    inputShape = (height, width, depth)\n",
    "    chanDim = -1\n",
    "\n",
    "    # if we are using 'channels first', update the input shape\n",
    "    # and channels dimension\n",
    "    if K.image_data_format() == 'channels_first':\n",
    "        inputShape = (depth, height, width)\n",
    "        chanDim = 1\n",
    "\n",
    "    # set the input and apply BN\n",
    "    inputs = Input(shape=inputShape)\n",
    "\n",
    "    x = BatchNormalization(axis=chanDim, epsilon=bn_eps,\n",
    "                           momentum=bn_mom)(inputs)\n",
    "\n",
    "    # check if we utilizing the CIFAR dataset\n",
    "    if dataset == 'cifar':\n",
    "        # apply a single CONV layer\n",
    "        x = Conv2D(filters=num_filters[0], kernel_size=(3, 3),\n",
    "                   use_bias=False, padding='same',\n",
    "                   kernel_regularizer=l2(reg_str))(x)\n",
    "\n",
    "    # loop over the number of stages - number of residual modules to stack\n",
    "    for i in range(0, len(stages)):\n",
    "        # initialize the strides, then apply a residual module used to reduce\n",
    "        # the spatial size of the input volume\n",
    "        strides = (1, 1) if i == 0 else (2, 2)\n",
    "        x = residual_module(inputs=x, num_filters=num_filters[i+1],\n",
    "                            strides=strides, chanDim=chanDim, bn_eps=bn_eps,\n",
    "                            bn_mom=bn_mom)\n",
    "\n",
    "        # loop over the number of layers in the stage\n",
    "        for j in range(0, stages[i]-1):\n",
    "            # apply a ResNet module\n",
    "            x = residual_module(inputs=x, num_filters=num_filters[i+1],\n",
    "                                strides=(1, 1), chanDim=chanDim, bn_eps=bn_eps,\n",
    "                                bn_mom=bn_mom)\n",
    "\n",
    "    # apply BN => ACT => POOL\n",
    "    x = BatchNormalization(axis=chanDim, epsilon=bn_eps,\n",
    "                           momentum=bn_mom)(x)\n",
    "    x = Activation('relu')(x)\n",
    "    x = AveragePooling2D(pool_size=(8, 8))(x)\n",
    "\n",
    "    # softmax classifier\n",
    "    x = Flatten()(x)\n",
    "    x = Dense(units=num_classes, kernel_regularizer=l2(reg_str))(x)\n",
    "    x = Activation('softmax')(x)\n",
    "\n",
    "    # create the model\n",
    "    model = Model(inputs=inputs, outputs=x, name='resnet')\n",
    "\n",
    "    # return the constructed network architecture\n",
    "    return model"
   ]
  },
  {
   "cell_type": "code",
   "execution_count": 5,
   "metadata": {},
   "outputs": [],
   "source": [
    "# parameter settings\n",
    "reg_str = 0.0005\n",
    "bn_eps = 2e-5\n",
    "bn_mom = 0.9\n",
    "num_classes = 10\n",
    "stages = (9,9,9)\n",
    "filters = (64,64,128,256)\n",
    "#chanDim = -1"
   ]
  },
  {
   "cell_type": "code",
   "execution_count": 6,
   "metadata": {},
   "outputs": [
    {
     "data": {
      "text/plain": [
       "TensorShape([Dimension(None), Dimension(32), Dimension(32), Dimension(3)])"
      ]
     },
     "execution_count": 6,
     "metadata": {},
     "output_type": "execute_result"
    }
   ],
   "source": [
    "input = Input(shape=(32, 32, 3))\n",
    "input.shape"
   ]
  },
  {
   "cell_type": "code",
   "execution_count": 7,
   "metadata": {},
   "outputs": [
    {
     "name": "stdout",
     "output_type": "stream",
     "text": [
      "(?, 32, 32, 64)\n"
     ]
    }
   ],
   "source": [
    "# input layer\n",
    "x = BatchNormalization()(input)\n",
    "x = Conv2D(filters=64,kernel_size=3,strides=(1,1),padding='same',use_bias=False,\n",
    "          kernel_regularizer=l2(reg_str))(x)\n",
    "print(x.shape)"
   ]
  },
  {
   "cell_type": "code",
   "execution_count": 8,
   "metadata": {},
   "outputs": [
    {
     "name": "stdout",
     "output_type": "stream",
     "text": [
      "(?, 8, 8, 256)\n"
     ]
    }
   ],
   "source": [
    "for i in range(0,len(stages)):\n",
    "    stride = (1,1) if i == 0 else (2,2)\n",
    "    x = residual_module(inputs=x,num_filters=filters[i+1],stride=stride,reduce=True,\n",
    "                        bn_eps=bn_eps,bn_mom=bn_mom)\n",
    "    \n",
    "    for j in range(0,stages[i]-1):\n",
    "        x = residual_module(inputs=x,num_filters=filters[i+1],stride=(1,1),\n",
    "                            bn_eps=bn_eps,bn_mom=bn_mom)\n",
    "print(x.shape)"
   ]
  },
  {
   "cell_type": "code",
   "execution_count": 9,
   "metadata": {},
   "outputs": [
    {
     "name": "stdout",
     "output_type": "stream",
     "text": [
      "(?, 1, 1, 256)\n",
      "(?, 10)\n"
     ]
    }
   ],
   "source": [
    "x = BatchNormalization(epsilon=bn_eps,momentum=bn_mom)(x)\n",
    "x = Activation('relu')(x)\n",
    "x = AveragePooling2D(pool_size=(8,8))(x)\n",
    "print(x.shape)\n",
    "\n",
    "x = Flatten()(x)\n",
    "x = Dense(num_classes,kernel_regularizer=l2(reg_str))(x)\n",
    "x = Activation('softmax')(x)\n",
    "print(x.shape)\n",
    "model = Model(inputs=input,outputs=x)\n",
    "model.summary()"
   ]
  },
  {
   "cell_type": "code",
   "execution_count": null,
   "metadata": {},
   "outputs": [],
   "source": []
  },
  {
   "cell_type": "markdown",
   "metadata": {},
   "source": [
    "### Use what I call the ctrl + c method to training a deep learning network where we train for some number of epochs at a given learning rate, eventually notice validation performance has stalled, then ctrl + c to stop the script, adjust our learning rate, and continue training."
   ]
  },
  {
   "cell_type": "markdown",
   "metadata": {},
   "source": [
    "    - cifar10 training image size: 32 x 32 x 3\n",
    "    - trainx and trainy: 50,000 images\n",
    "    - testx and testy: 10,000 images"
   ]
  },
  {
   "cell_type": "code",
   "execution_count": null,
   "metadata": {},
   "outputs": [],
   "source": [
    "# load training and testing data, converting the images from integers to floats\n",
    "((trainx, trainy), (testx, testy)) = cifar10.load_data()\n",
    "trainx = trainx.astype('float')\n",
    "testx = testx.astype('float')\n",
    "\n",
    "# mean subtraction\n",
    "mean = np.mean(trainx, axis=0)\n",
    "trainx -= mean\n",
    "testx -= mean\n",
    "\n",
    "# convert the labels from integers to vectors\n",
    "lb = LabelBinarizer()\n",
    "trainy = lb.fit_transform(trainy)\n",
    "testy = lb.transform(testy)"
   ]
  },
  {
   "cell_type": "code",
   "execution_count": null,
   "metadata": {},
   "outputs": [],
   "source": [
    "# construct the image generator for data augmentation\n",
    "aug = ImageDataGenerator(width_shift_range = 0.1,\n",
    "                        height_shift_range = 0.1,\n",
    "                        horizontal_flip = True,\n",
    "                        fill_mode = 'nearest')"
   ]
  },
  {
   "cell_type": "code",
   "execution_count": null,
   "metadata": {},
   "outputs": [],
   "source": [
    "# parameter settings\n",
    "reg_str = 0.0005\n",
    "bn_eps = 2e-5\n",
    "bn_mom = 0.9\n",
    "num_classes = 10\n",
    "stages = (9,9,9)\n",
    "filters = (64,64,128,256)\n",
    "#chanDim = -1"
   ]
  },
  {
   "cell_type": "markdown",
   "metadata": {},
   "source": [
    "### network initialization for ResNet-56"
   ]
  },
  {
   "cell_type": "code",
   "execution_count": null,
   "metadata": {},
   "outputs": [],
   "source": [
    "inputShape = (32,32,3)\n",
    "inputs = Input(shape=inputShape)\n",
    "print('inputs shape: {}'.format(inputs.shape),'\\n')\n",
    "x = BatchNormalization(epsilon=bn_eps,momentum=bn_mom)(inputs)\n",
    "x = Conv2D(filters[0],(3,3),use_bias=False,padding='same',kernel_regularizer=l2(reg_str))(x)\n",
    "print('x shape: {}'.format(x.shape))"
   ]
  },
  {
   "cell_type": "markdown",
   "metadata": {},
   "source": [
    "### stage 1, phase 1 -> 1 residual_module() with stride = (1,1)"
   ]
  },
  {
   "cell_type": "code",
   "execution_count": null,
   "metadata": {},
   "outputs": [],
   "source": [
    "# stage 1\n",
    "shortcut = x\n",
    "print('shortcut shape: {}'.format(shortcut.shape),'\\n')\n",
    "\n",
    "# block 1\n",
    "x = BatchNormalization(epsilon=bn_eps,momentum=bn_mom)(x)\n",
    "x = Activation('relu')(x)\n",
    "x = Conv2D(filters=int(64/4),kernel_size=(1,1),use_bias=False,kernel_regularizer=l2(0.0005))(x)\n",
    "print('x shape: {}'.format(x.shape),'\\n')\n",
    "\n",
    "# block 2\n",
    "x = BatchNormalization(epsilon=bn_eps,momentum=bn_mom)(x)\n",
    "x = Activation('relu')(x)\n",
    "x = Conv2D(filters=int(64/4),kernel_size=(3,3),\n",
    "           padding='same',use_bias=False,kernel_regularizer=l2(0.0005))(x)\n",
    "print('x shape: {}'.format(x.shape),'\\n')\n",
    "\n",
    "# block 3\n",
    "x = BatchNormalization(epsilon=bn_eps,momentum=bn_mom)(x)\n",
    "x = Activation('relu')(x)\n",
    "x = Conv2D(filters=64,kernel_size=(1,1),use_bias=False,kernel_regularizer=l2(0.0005))(x)\n",
    "print('x shape: {}'.format(x.shape),'\\n')\n",
    "\n",
    "# add\n",
    "x = add([x,shortcut])\n",
    "print('x shape: {}'.format(x.shape))"
   ]
  },
  {
   "cell_type": "code",
   "execution_count": null,
   "metadata": {},
   "outputs": [],
   "source": []
  },
  {
   "cell_type": "code",
   "execution_count": null,
   "metadata": {},
   "outputs": [],
   "source": []
  },
  {
   "cell_type": "markdown",
   "metadata": {},
   "source": [
    "### stage 1, phase 2 -> 9 residual_module() with stride = (1,1)"
   ]
  },
  {
   "cell_type": "code",
   "execution_count": null,
   "metadata": {},
   "outputs": [],
   "source": [
    "# stage 1, phase 2\n",
    "for j in range(0, 9-1):\n",
    "    x = residual_module(inputs=x,num_filters=64,stride=(1,1),reg_str=0.0005,bn_eps=2e-5,\n",
    "                       bn_mom=0.9)\n",
    "    print('x shape for j = {} is {}'.format(j,x.shape),'\\n')"
   ]
  },
  {
   "cell_type": "code",
   "execution_count": null,
   "metadata": {},
   "outputs": [],
   "source": [
    "for i in range(0,len(stages)):\n",
    "    stride = (1,1) if i == 0 else (2,2)\n",
    "    x = residual_module(inputs=x,num_filters=filters[i+1],stride=stride,\n",
    "                        bn_eps=bn_eps,bn_mom=bn_mom)\n",
    "    \n",
    "    for j in range(0,stages[i]-1):\n",
    "        x = residual_module(inputs=x,num_filters=filters[i+1],stride=(1,1),\n",
    "                            bn_eps=bn_eps,bn_mom=bn_mom)\n",
    "\n",
    "x = BatchNormalization(epsilon=bp_eps,momentum=bp_mom)(x)\n",
    "x = Activation('relu')(x)\n",
    "x = AveragePooling2D(pool_size=(8,8))(x)\n",
    "\n",
    "x = Flatten()(x)\n",
    "x = Dense(num_classes,kernel_regularizer=l2(reg_str))(x)\n",
    "x = Activation('softmax')(x)\n",
    "\n",
    "model = Model(inputs=inputs,outputs=x,name='resnet')"
   ]
  },
  {
   "cell_type": "code",
   "execution_count": null,
   "metadata": {},
   "outputs": [],
   "source": [
    "def residual_module(inputs, num_filters, stride, reduce=False,\n",
    "                    reg_str=0.0001, bn_eps=2e-5, bn_mom=0.9):"
   ]
  },
  {
   "cell_type": "markdown",
   "metadata": {},
   "source": [
    "### stage 2, phase 1 -> 1 residual_module() with stride = (2,2)"
   ]
  },
  {
   "cell_type": "code",
   "execution_count": null,
   "metadata": {},
   "outputs": [],
   "source": [
    "# stage 1\n",
    "shortcut = x\n",
    "print('shortcut shape: {}'.format(shortcut.shape),'\\n')\n",
    "\n",
    "# block 1\n",
    "x = BatchNormalization(epsilon=bn_eps,momentum=bn_mom)(x)\n",
    "x = Activation('relu')(x)\n",
    "x = Conv2D(filters=int(128/4),kernel_size=(1,1),use_bias=False,kernel_regularizer=l2(0.0005))(x)\n",
    "print('x shape: {}'.format(x.shape),'\\n')\n",
    "\n",
    "# block 2\n",
    "x = BatchNormalization(epsilon=bn_eps,momentum=bn_mom)(x)\n",
    "x = Activation('relu')(x)\n",
    "x = Conv2D(filters=int(128/4),kernel_size=(3,3),\n",
    "           padding='same',use_bias=False,kernel_regularizer=l2(0.0005))(x)\n",
    "print('x shape: {}'.format(x.shape),'\\n')\n",
    "\n",
    "# block 3\n",
    "x = BatchNormalization(epsilon=bn_eps,momentum=bn_mom)(x)\n",
    "x = Activation('relu')(x)\n",
    "x = Conv2D(filters=128,kernel_size=(1,1),use_bias=False,kernel_regularizer=l2(0.0005))(x)\n",
    "print('x shape: {}'.format(x.shape),'\\n')\n",
    "\n",
    "# add\n",
    "x = add([x,shortcut])\n",
    "print('x shape: {}'.format(x.shape))"
   ]
  },
  {
   "cell_type": "code",
   "execution_count": null,
   "metadata": {},
   "outputs": [],
   "source": [
    "x = residual_module(inputs=x,num_filters=128,stride=(2,2),reg_str=0.0005,\n",
    "                    bn_eps=2e-5,bn_mom=0.9)\n",
    "print('x shape stage 2 - phase 1: {}'.format(x.shape))"
   ]
  },
  {
   "cell_type": "code",
   "execution_count": null,
   "metadata": {},
   "outputs": [],
   "source": []
  },
  {
   "cell_type": "code",
   "execution_count": null,
   "metadata": {},
   "outputs": [],
   "source": []
  },
  {
   "cell_type": "code",
   "execution_count": null,
   "metadata": {},
   "outputs": [],
   "source": []
  },
  {
   "cell_type": "code",
   "execution_count": null,
   "metadata": {},
   "outputs": [],
   "source": []
  },
  {
   "cell_type": "code",
   "execution_count": null,
   "metadata": {},
   "outputs": [],
   "source": []
  },
  {
   "cell_type": "code",
   "execution_count": null,
   "metadata": {},
   "outputs": [],
   "source": []
  },
  {
   "cell_type": "code",
   "execution_count": null,
   "metadata": {},
   "outputs": [],
   "source": [
    "x"
   ]
  },
  {
   "cell_type": "code",
   "execution_count": null,
   "metadata": {},
   "outputs": [],
   "source": [
    "shortcut"
   ]
  },
  {
   "cell_type": "code",
   "execution_count": null,
   "metadata": {},
   "outputs": [],
   "source": []
  },
  {
   "cell_type": "code",
   "execution_count": null,
   "metadata": {},
   "outputs": [],
   "source": []
  },
  {
   "cell_type": "code",
   "execution_count": null,
   "metadata": {},
   "outputs": [],
   "source": []
  },
  {
   "cell_type": "code",
   "execution_count": null,
   "metadata": {},
   "outputs": [],
   "source": []
  },
  {
   "cell_type": "code",
   "execution_count": null,
   "metadata": {},
   "outputs": [],
   "source": []
  },
  {
   "cell_type": "code",
   "execution_count": null,
   "metadata": {},
   "outputs": [],
   "source": []
  },
  {
   "cell_type": "code",
   "execution_count": null,
   "metadata": {},
   "outputs": [],
   "source": []
  },
  {
   "cell_type": "code",
   "execution_count": null,
   "metadata": {},
   "outputs": [],
   "source": []
  },
  {
   "cell_type": "code",
   "execution_count": null,
   "metadata": {},
   "outputs": [],
   "source": [
    "x.shape"
   ]
  },
  {
   "cell_type": "code",
   "execution_count": null,
   "metadata": {},
   "outputs": [],
   "source": [
    "for i in range(0,len(stages)):\n",
    "    stride = (1,1) if i == 0 else (2,2)\n",
    "    print(stride)"
   ]
  },
  {
   "cell_type": "code",
   "execution_count": null,
   "metadata": {},
   "outputs": [],
   "source": [
    "def residual_module(inputs, num_filters, stride, reduce=False,\n",
    "                    reg_str=0.0001, bn_eps=2e-5, bn_mom=0.9):\n",
    "    shortcut = inputs\n",
    "    # first block of ResNet module - 1 x 1 CONV\n",
    "    bn1 = BatchNormalization(epsilon=bn_eps,\n",
    "                             momentum=bn_mom)(inputs)\n",
    "    act1 = Activation('relu')(bn1)\n",
    "    conv1 = Conv2D(filters=int(num_filters*0.25), kernel_size=(1, 1),\n",
    "                   use_bias=False, kernel_regularizer=l2(reg_str))(act1)\n",
    "\n",
    "    # second block of ResNet module - 3 x 3 CONV\n",
    "    bn2 = BatchNormalization(epsilon=bn_eps,\n",
    "                             momentum=bn_mom)(conv1)\n",
    "    act2 = Activation('relu')(bn2)\n",
    "    conv2 = Conv2D(filters=int(num_filters*0.25), kernel_size=(3, 3),\n",
    "                   strides=stride, padding='same', use_bias=False,\n",
    "                   kernel_regularizer=l2(reg_str))(act2)\n",
    "\n",
    "# third and final block of ResNet module - 1 x 1 CONV\n",
    "    bn3 = BatchNormalization(epsilon=bn_eps,\n",
    "                             momentum=bn_mom)(conv2)\n",
    "    act3 = Activation('relu')(bn3)\n",
    "    conv3 = Conv2D(filters=num_filters, kernel_size=(1, 1), use_bias=False,\n",
    "                   kernel_regularizer=l2(reg_str))(act3)\n",
    "\n",
    "# if we are to reduce the spatial size, apply a CONV layer to the shortcut\n",
    "    if reduce:\n",
    "        shortcut = Conv2D(filters=num_filters, kernel_size=(1, 1),\n",
    "                          strides=stride, use_bias=False,\n",
    "                          kernel_regularizer=l2(reg_str))(act1)\n",
    "\n",
    "# add together the shortcut and the final CONV\n",
    "    x = add([conv3, shortcut])\n",
    "\n",
    "# return the addition as the output of the ResNet module\n",
    "    return x"
   ]
  },
  {
   "cell_type": "code",
   "execution_count": null,
   "metadata": {},
   "outputs": [],
   "source": []
  },
  {
   "cell_type": "code",
   "execution_count": null,
   "metadata": {},
   "outputs": [],
   "source": []
  },
  {
   "cell_type": "code",
   "execution_count": null,
   "metadata": {},
   "outputs": [],
   "source": []
  },
  {
   "cell_type": "code",
   "execution_count": null,
   "metadata": {},
   "outputs": [],
   "source": []
  },
  {
   "cell_type": "code",
   "execution_count": null,
   "metadata": {},
   "outputs": [],
   "source": []
  },
  {
   "cell_type": "code",
   "execution_count": null,
   "metadata": {},
   "outputs": [],
   "source": []
  },
  {
   "cell_type": "code",
   "execution_count": null,
   "metadata": {},
   "outputs": [],
   "source": []
  },
  {
   "cell_type": "code",
   "execution_count": null,
   "metadata": {},
   "outputs": [],
   "source": []
  },
  {
   "cell_type": "code",
   "execution_count": null,
   "metadata": {},
   "outputs": [],
   "source": []
  },
  {
   "cell_type": "code",
   "execution_count": null,
   "metadata": {},
   "outputs": [],
   "source": [
    "def build(width, height, depth, num_classes, stages, num_filters,\n",
    "          reg_str=0.0001, bn_eps=2e-5, bn_mom=0.9, dataset='cifar'):"
   ]
  },
  {
   "cell_type": "code",
   "execution_count": null,
   "metadata": {},
   "outputs": [],
   "source": [
    "# model compilation\n",
    "opt = SGD(lr=1e-1) # learning rate = 0.1\n",
    "\n",
    "model = build(width=32,height=32,depth=3,num_classes=10,stages=(9,9,9),\n",
    "             num_filters=(64,64,128,256),reg_str=0.0005)\n",
    "model.compile(loss='categorical_crossentropy', optimizer=opt, metrics=['accuracy'])"
   ]
  },
  {
   "cell_type": "code",
   "execution_count": null,
   "metadata": {},
   "outputs": [],
   "source": [
    "# summary of resnet architecture\n",
    "model.summary()"
   ]
  },
  {
   "cell_type": "code",
   "execution_count": null,
   "metadata": {},
   "outputs": [],
   "source": []
  },
  {
   "cell_type": "code",
   "execution_count": null,
   "metadata": {},
   "outputs": [],
   "source": []
  },
  {
   "cell_type": "code",
   "execution_count": null,
   "metadata": {},
   "outputs": [],
   "source": []
  },
  {
   "cell_type": "code",
   "execution_count": null,
   "metadata": {},
   "outputs": [],
   "source": []
  },
  {
   "cell_type": "code",
   "execution_count": null,
   "metadata": {},
   "outputs": [],
   "source": []
  },
  {
   "cell_type": "code",
   "execution_count": null,
   "metadata": {},
   "outputs": [],
   "source": []
  },
  {
   "cell_type": "code",
   "execution_count": null,
   "metadata": {},
   "outputs": [],
   "source": []
  }
 ],
 "metadata": {
  "kernelspec": {
   "display_name": "Python 3",
   "language": "python",
   "name": "python3"
  },
  "language_info": {
   "codemirror_mode": {
    "name": "ipython",
    "version": 3
   },
   "file_extension": ".py",
   "mimetype": "text/x-python",
   "name": "python",
   "nbconvert_exporter": "python",
   "pygments_lexer": "ipython3",
   "version": "3.6.5"
  }
 },
 "nbformat": 4,
 "nbformat_minor": 2
}
